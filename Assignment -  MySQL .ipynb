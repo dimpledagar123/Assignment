{
 "cells": [
  {
   "cell_type": "markdown",
   "id": "8de247c2",
   "metadata": {},
   "source": [
    "# Table 1: SalesPeople"
   ]
  },
  {
   "cell_type": "raw",
   "id": "6a09e907",
   "metadata": {},
   "source": [
    "mysql> show databases;\n",
    "+--------------------+\n",
    "| Database           |\n",
    "+--------------------+\n",
    "| anupama            |\n",
    "| information_schema |\n",
    "| mysql              |\n",
    "| performance_schema |\n",
    "| sales              |\n",
    "| sys                |\n",
    "+--------------------+\n",
    "6 rows in set (0.17 sec)\n",
    "\n",
    "mysql> CREATE DATABASE ASSIGMENT;\n",
    "\n",
    "\n",
    "mysql> USE ASSIGMENT;\n",
    "\n",
    "mysql> CREATE TABLE SALESPEOPLE(Snum INT PRIMARY KEY,\n",
    "Sname VARCHAR(50) UNIQUE KEY,\n",
    "City VARCHAR(50),\n",
    "Comm INT\n",
    ");\n",
    "\n",
    "SHOW TABLES;\n",
    "\n",
    "INSERT INTO SALESPEOPLE VALUES\n",
    "(1001,'Peel','London',12),\n",
    "(1002,'Serres','Sanjose',13),\n",
    "(1004,'Motika','London',11),\n",
    "(1007,'Rifkin','Barcelona',15),\n",
    "(1003,'Axelrod','Newyork',10);\n",
    "\n",
    "SELECT * FROM SALESPEOPLE;\n",
    "+------+---------+-----------+------+\n",
    "| Snum | Sname   | City      | Comm |\n",
    "+------+---------+-----------+------+\n",
    "| 1001 | Peel    | London    |   12 |\n",
    "| 1002 | Serres  | Sanjose   |   13 |\n",
    "| 1003 | Axelrod | Newyork   |   10 |\n",
    "| 1004 | Motika  | London    |   11 |\n",
    "| 1007 | Rifkin  | Barcelona |   15 |\n",
    "+------+---------+-----------+------+\n",
    "DESC SALESPEOPLE;\n",
    "\n",
    "+-------+-------------+------+-----+---------+-------+\n",
    "| Field | Type        | Null | Key | Default | Extra |\n",
    "+-------+-------------+------+-----+---------+-------+\n",
    "| Snum  | int         | NO   | PRI | NULL    |       |\n",
    "| Sname | varchar(55) | YES  | UNI | NULL    |       |\n",
    "| City  | varchar(35) | YES  |     | NULL    |       |\n",
    "| Comm  | int         | YES  |     | NULL    |       |\n",
    "+-------+-------------+------+-----+---------+-------+"
   ]
  },
  {
   "cell_type": "markdown",
   "id": "557616dc",
   "metadata": {},
   "source": [
    "# Table 2: Customers"
   ]
  },
  {
   "cell_type": "raw",
   "id": "e93f2716",
   "metadata": {},
   "source": [
    "mysql> CREATE TABLE Customers(\n",
    "    -> Cnum INT PRIMARY KEY,\n",
    "    -> Cname VARCHAR(30),\n",
    "    -> City VARCHAR(30) NOT NULL,\n",
    "    -> Snum INT,\n",
    "    -> FOREIGN KEY (Snum) REFERENCES Salespeople(Snum));\n",
    "\n",
    "\n",
    "mysql> INSERT INTO Customers VALUES\n",
    "    -> (2001,\"Hoffman\",\"London\",1001),\n",
    "    -> (2002,\"Giovanni\",\"Rome\",1003),\n",
    "    -> (2003,\"Liu\",\"Sanjose\",1002),\n",
    "    -> (2004,\"Grass\",\"Berlin\",1002),\n",
    "    -> (2006,\"Clemens\",\"London\",1001),\n",
    "    -> (2008,\"Cisneros\",\"Sanjose\",1007),\n",
    "    -> (2007,\"Pereira\",\"Rome\",1004);\n",
    "\n",
    "\n",
    "mysql> SELECT * FROM CUSTOMERS;\n",
    "+------+----------+---------+------+\n",
    "| Cnum | Cname    | City    | Snum |\n",
    "+------+----------+---------+------+\n",
    "| 2001 | Hoffman  | London  | 1001 |\n",
    "| 2002 | Giovanni | Rome    | 1003 |\n",
    "| 2003 | Liu      | Sanjose | 1002 |\n",
    "| 2004 | Grass    | Berlin  | 1002 |\n",
    "| 2006 | Clemens  | London  | 1001 |\n",
    "| 2007 | Pereira  | Rome    | 1004 |\n",
    "| 2008 | Cisneros | Sanjose | 1007 |\n",
    "+------+----------+---------+------+\n"
   ]
  },
  {
   "cell_type": "markdown",
   "id": "634cc991",
   "metadata": {},
   "source": [
    "# Table 3: Orders"
   ]
  },
  {
   "cell_type": "raw",
   "id": "19ce5d75",
   "metadata": {},
   "source": [
    "CREATE TABLE ORDERS(\n",
    "Onum INT PRIMARY KEY,\n",
    "Amt FLOAT,\n",
    "Odate DATE,\n",
    "Cnum INT,\n",
    "Snum INT,\n",
    "FOREIGN KEY (Cnum) REFERENCES customers(Cnum),\n",
    "FOREIGN KEY (Snum) REFERENCES salespeople(Snum));\n",
    "\n",
    "INSERT INTO orders VALUES\n",
    "(3001,18.69,\"1990-10-3\",2008,1007),\n",
    "(3003,767.19,\"1990-10-3\",2001,1001),\n",
    "(3002,1900.10,\"1990-10-3\",2007,1004),\n",
    "(3005,5160.45,\"1990-10-3\",2003,1002),\n",
    "(3006,1098.16,\"1990-10-3\",2008,1007),\n",
    "(3009,1713.23,\"1990-10-4\",2002,1003),\n",
    "(3007,75.75,\"1990-10-4\",2004,1002),\n",
    "(3008,4273.00,\"1990-10-5\",2006,1001),\n",
    "(3010,1309.95,\"1990-10-6\",2004,1002),\n",
    "(3011,9891.88,\"1990-10-6\",2006,1001);\n",
    "\n",
    "SELECT * FROM ORDERS;\n",
    "+------+---------+------------+------+------+\n",
    "| Onum | Amt     | Odate      | Cnum | Snum |\n",
    "+------+---------+------------+------+------+\n",
    "| 3001 |   18.69 | 1990-10-03 | 2008 | 1007 |\n",
    "| 3002 |  1900.1 | 1990-10-03 | 2007 | 1004 |\n",
    "| 3003 |  767.19 | 1990-10-03 | 2001 | 1001 |\n",
    "| 3005 | 5160.45 | 1990-10-03 | 2003 | 1002 |\n",
    "| 3006 | 1098.16 | 1990-10-03 | 2008 | 1007 |\n",
    "| 3007 |   75.75 | 1990-10-04 | 2004 | 1002 |\n",
    "| 3008 |    4273 | 1990-10-05 | 2006 | 1001 |\n",
    "| 3009 | 1713.23 | 1990-10-04 | 2002 | 1003 |\n",
    "| 3010 | 1309.95 | 1990-10-06 | 2004 | 1002 |\n",
    "| 3011 | 9891.88 | 1990-10-06 | 2006 | 1001 |\n",
    "+------+---------+------------+------+------+\n",
    "10 rows in set (0.00 sec)\n",
    "\n",
    "DESC ORDERS;\n",
    "+-------+-------+------+-----+---------+-------+\n",
    "| Field | Type  | Null | Key | Default | Extra |\n",
    "+-------+-------+------+-----+---------+-------+\n",
    "| Onum  | int   | NO   | PRI | NULL    |       |\n",
    "| Amt   | float | YES  |     | NULL    |       |\n",
    "| Odate | date  | YES  |     | NULL    |       |\n",
    "| Cnum  | int   | YES  | MUL | NULL    |       |\n",
    "| Snum  | int   | YES  | MUL | NULL    |       |\n",
    "+-------+-------+------+-----+---------+-------+\n",
    "5 rows in set (0.00 sec)"
   ]
  },
  {
   "cell_type": "markdown",
   "id": "22686b35",
   "metadata": {},
   "source": [
    "### 1.  Count the number of Salesperson whose name begin with ‘a’/’A’."
   ]
  },
  {
   "cell_type": "raw",
   "id": "217b7b05",
   "metadata": {},
   "source": [
    "\n",
    "SELECT * FROM SALESPEOPLE WHERE BINARY Sname LIKE \"A%\";\n",
    "+------+---------+---------+------+\n",
    "| Snum | Sname   | City    | Comm |\n",
    "+------+---------+---------+------+\n",
    "| 1003 | Axelrod | Newyork |   10 |\n",
    "+------+---------+---------+------+\n",
    "1 row in set, 1 warning (0.01 sec)\n",
    "\n",
    "\n",
    "\n",
    "SELECT * FROM SALESPEOPLE WHERE BINARY Sname LIKE \"a\";\n",
    "Empty set, 1 warning (0.00 sec)\n",
    "\n",
    "\n",
    "\n",
    "SELECT COUNT(Sname) FROM SALESPEOPLE WHERE Sname LIKE \"A%\";\n",
    "+--------------+\n",
    "| COUNT(Sname) |\n",
    "+--------------+\n",
    "|            1 |\n",
    "+--------------+\n",
    "1 row in set (0.01 sec)\n",
    "\n",
    "\n",
    "\n",
    "SELECT COUNT(Sname) FROM SALESPEOPLE WHERE BINARY Sname LIKE \"a%\";\n",
    "+--------------+\n",
    "| COUNT(Sname) |\n",
    "+--------------+\n",
    "|            0 |\n",
    "+--------------+\n",
    "1 row in set, 1 warning (0.00 sec)"
   ]
  },
  {
   "cell_type": "markdown",
   "id": "e0821e86",
   "metadata": {},
   "source": [
    "### 2.Display all the Salesperson whose all orders worth is more than Rs. 2000."
   ]
  },
  {
   "cell_type": "raw",
   "id": "51ad07c4",
   "metadata": {},
   "source": [
    "SELECT salespeople.Sname,orders.Amt FROM salespeople \n",
    "INNER JOIN orders ON salespeople.Snum = orders.Snum \n",
    "WHERE Amt>2000;\n",
    "\n",
    "+--------+---------+\n",
    "| Sname  | Amt     |\n",
    "+--------+---------+\n",
    "| Serres | 5160.45 |\n",
    "| Peel   |    4273 |\n",
    "| Peel   | 9891.88 |\n",
    "+--------+---------+"
   ]
  },
  {
   "cell_type": "markdown",
   "id": "b0131a61",
   "metadata": {},
   "source": [
    "### 3.Count the number of Salesperson belonging to Newyork."
   ]
  },
  {
   "cell_type": "raw",
   "id": "84fd2ecd",
   "metadata": {},
   "source": [
    "SELECT * FROM salespeople WHERE City = \"Newyork\"; \n",
    "\n",
    "+------+---------+---------+------+\n",
    "| Snum | Sname   | City    | Comm |\n",
    "+------+---------+---------+------+\n",
    "| 1003 | Axelrod | Newyork |   10 |\n",
    "+------+---------+---------+------+\n",
    "\n",
    "\n",
    "SELECT COUNT(City) AS City_Name FROM salespeople WHERE City = \"Newyork\"; \n",
    "\n",
    "+-----------+\n",
    "| City_Name |\n",
    "+-----------+\n",
    "|         1 |\n",
    "+-----------+"
   ]
  },
  {
   "cell_type": "markdown",
   "id": "f3154b04",
   "metadata": {},
   "source": [
    "### 4. Display the number of Salespeople belonging to London and belonging to Paris."
   ]
  },
  {
   "cell_type": "raw",
   "id": "55c23826",
   "metadata": {},
   "source": [
    "SELECT * FROM salespeople WHERE City IN (\"London\",\"Paris\"); \n",
    "\n",
    "+------+--------+--------+------+\n",
    "| Snum | Sname  | City   | Comm |\n",
    "+------+--------+--------+------+\n",
    "| 1001 | Peel   | London |   12 |\n",
    "| 1004 | Motika | London |   11 |\n",
    "+------+--------+--------+------+"
   ]
  },
  {
   "cell_type": "markdown",
   "id": "9b10863e",
   "metadata": {},
   "source": [
    "### 5. Display the number of orders taken by each Salesperson and their date of orders."
   ]
  },
  {
   "cell_type": "raw",
   "id": "6cdf22c8",
   "metadata": {},
   "source": [
    "SELECT salespeople.Sname,COUNT(orders.Onum) AS \"Numbers of Orders\",orders.Odate FROM salespeople \n",
    " \tINNER JOIN orders ON salespeople.Snum = orders.Snum GROUP BY salespeople.Sname;\n",
    "    \n",
    "    +---------+-------------------+------------+\n",
    "| Sname   | Numbers of Orders | Odate      |\n",
    "+---------+-------------------+------------+\n",
    "| Axelrod |                 1 | 1990-10-04 |\n",
    "| Motika  |                 1 | 1990-10-03 |\n",
    "| Peel    |                 3 | 1990-10-03 |\n",
    "| Rifkin  |                 2 | 1990-10-03 |\n",
    "| Serres  |                 3 | 1990-10-03 |\n",
    "+---------+-------------------+------------+\n",
    "\n",
    "\n",
    "SELECT salespeople.Sname,orders.Onum,orders.Odate FROM salespeople INNER JOIN orders ON salespeople.Snum = orders.Snum;\n",
    "\n",
    "+---------+------+------------+\n",
    "| Sname   | Onum | Odate      |\n",
    "+---------+------+------------+\n",
    "| Axelrod | 3009 | 1990-10-04 |\n",
    "| Motika  | 3002 | 1990-10-03 |\n",
    "| Peel    | 3003 | 1990-10-03 |\n",
    "| Peel    | 3008 | 1990-10-05 |\n",
    "| Peel    | 3011 | 1990-10-06 |\n",
    "| Rifkin  | 3001 | 1990-10-03 |\n",
    "| Rifkin  | 3006 | 1990-10-03 |\n",
    "| Serres  | 3005 | 1990-10-03 |\n",
    "| Serres  | 3007 | 1990-10-04 |\n",
    "| Serres  | 3010 | 1990-10-06 |\n",
    "+---------+------+------------+\n"
   ]
  }
 ],
 "metadata": {
  "kernelspec": {
   "display_name": "Python 3",
   "language": "python",
   "name": "python3"
  },
  "language_info": {
   "codemirror_mode": {
    "name": "ipython",
    "version": 3
   },
   "file_extension": ".py",
   "mimetype": "text/x-python",
   "name": "python",
   "nbconvert_exporter": "python",
   "pygments_lexer": "ipython3",
   "version": "3.8.8"
  }
 },
 "nbformat": 4,
 "nbformat_minor": 5
}
